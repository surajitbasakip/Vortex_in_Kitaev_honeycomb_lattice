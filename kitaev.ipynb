{
 "cells": [
  {
   "cell_type": "markdown",
   "id": "9de91ea7-e2d6-46a3-8c64-8114def8673e",
   "metadata": {},
   "source": [
    "# Kitaev Honeycomb Model with Vortices\n",
    "    This notebook explores the eigenvalues of the Kitaev honeycomb model. \n",
    "    The following steps are carried out:\n",
    "    1. Calculation of eigenvalues for the original model.\n",
    "    2. Addition of two vortices and study of their impact.\n",
    "    3. Examination of the energy splitting in the lowest energy states as vortices are brought closer.\n",
    "\n",
    "    ## Key Steps:\n",
    "    - **Theory**: The Kitaev model is an exactly solvable model on a two-dimensional honeycomb lattice, with significant relevance in quantum computation and topological phases of matter.\n",
    "    - **Analysis**: The energy splitting as vortices are brought closer provides insights into the interaction between localized Majorana modes.\n",
    "\n",
    "    Below, the workflow includes defining the Hamiltonian, computing eigenvalues, introducing vortices, \n",
    "    and analyzing results."
   ]
  },
  {
   "cell_type": "code",
   "execution_count": 1,
   "id": "1297a726",
   "metadata": {},
   "outputs": [],
   "source": [
    "import numpy as np\n",
    "from scipy import linalg\n",
    "from scipy import sparse\n",
    "import scipy.sparse.linalg\n",
    "import time\n",
    "import os\n",
    "import matplotlib.pyplot as plt\n",
    "import cmath \n",
    "import math\n",
    "from scipy import optimize\n",
    "from scipy.optimize import fmin\n",
    "import matplotlib.pyplot as plt\n",
    "from scipy.optimize import curve_fit"
   ]
  },
  {
   "cell_type": "markdown",
   "id": "e1142b8d",
   "metadata": {},
   "source": [
    "k[j,m] means the hopping is from site 'j' to site 'm'. It means, this hamiltonian is negative of the hamiltonian from the paper (Annals of Physics 321 (2006) 2--111). If you want your hamiltonian be the same from the paper, define your hopping parameter with a negative sign (J --> -J)"
   ]
  },
  {
   "cell_type": "markdown",
   "id": "cd7c0c51-ff5a-4de8-9924-63696bc24632",
   "metadata": {},
   "source": [
    "### Vortex free Kitaev's honeycomb model"
   ]
  },
  {
   "cell_type": "code",
   "execution_count": 6,
   "id": "5e772575",
   "metadata": {},
   "outputs": [],
   "source": [
    "#Kitaev honeycomb vortexfree\n",
    "#gap found = 6*sqrt(3)\n",
    "# defining the grid/ size of the hamiltonian will be nx*ny*nz\n",
    "nx = 60\n",
    "ny = 60\n",
    "nz=2 #0=even, 1=odd\n",
    "\n",
    "# Initializing the hamiltonians\n",
    "kin = np.zeros((nx*ny*nz, nx*ny*nz), dtype=complex) # the kinetic energy\n",
    "site = np.zeros((nx, ny, nz))\n",
    "ste=[]\n",
    "ax=[]\n",
    "ay=[]\n",
    "\n",
    "# the lattice vectors\n",
    "a2 = np.array([-1/2, (np.sqrt(3)/2)])\n",
    "a1 = np.array([1/2, (np.sqrt(3)/2)])\n",
    "\n",
    "# the nearest neighbout (J) and next-nearest neighbour (K) vectors\n",
    "J = (1)*1*1j # this is actually (i)*(2J) = J*(2)i\n",
    "Jz = (1)*1*1j # this is actually (i)*(2J) = J*(2)i\n",
    "K = (1)*0.05*1j\n",
    "\n",
    "# the loop below assigns an unique index to each lattice points\n",
    "i=-1\n",
    "for x in range(0,nx):\n",
    "    for y in range(0,ny):\n",
    "        for z in range(0,nz):\n",
    "            i=i+1\n",
    "            site[x,y,z]=i\n",
    "            #for plotting the lattice\n",
    "            a = x*a1 + y*a2 + z*((a2 + a1)/3)\n",
    "            ax.append(a[0])\n",
    "            ay.append(a[1])\n",
    "            ste.append(int(site[x,y,z]))\n",
    "\n",
    "# construction of the hamiltonian\n",
    "for x in range(0,nx):\n",
    "    for y in range(0,ny):\n",
    "        i = int(site[x,y,0])\n",
    "        j = int(site[x,y,1])\n",
    "        # in cell 0-1\n",
    "        kin[i,j] = Jz\n",
    "        kin[j,i] = -Jz\n",
    "        # out-cell 1-0 (right)\n",
    "        x1 = x + 1\n",
    "        if x1 > nx-1:\n",
    "            x1 = 0\n",
    "        m = int(site[x1,y,0])\n",
    "        kin[j,m] = -J\n",
    "        kin[m,j] = J\n",
    "        #NNN\n",
    "        #0-0\n",
    "        kin[i,m] = -K\n",
    "        kin[m,i] = K\n",
    "        #1-1\n",
    "        m = int(site[x1,y,1])\n",
    "        kin[j,m] = K\n",
    "        kin[m,j] = -K\n",
    "        # out-cell 0-1 (left)\n",
    "        x1 = x - 1\n",
    "        if x1 < 0:\n",
    "            x1 = nx-1\n",
    "        m = int(site[x1,y,1])\n",
    "        kin[i,m] = J\n",
    "        kin[m,i] = -J\n",
    "        #NNN\n",
    "        #0-0\n",
    "        kin[j,m] = -K\n",
    "        kin[m,j] = K\n",
    "        #1-1\n",
    "        m = int(site[x1,y,0])\n",
    "        kin[i,m] = K\n",
    "        kin[m,i] = -K\n",
    "        #####\n",
    "        # out-cell 1-0 (up)\n",
    "        y1 = y + 1\n",
    "        if y1 > ny-1:\n",
    "            y1 = 0\n",
    "        m = int(site[x,y1,0])\n",
    "        kin[j,m] = -J\n",
    "        kin[m,j] = J\n",
    "        \n",
    "        #Next Nearest Neighbour (NNN)\n",
    "        #0-0\n",
    "        kin[i,m] = K\n",
    "        kin[m,i] = -K\n",
    "        #1-1\n",
    "        m = int(site[x,y1,1])\n",
    "        kin[j,m] = -K\n",
    "        kin[m,j] = K\n",
    "        # out-cell 0-1 (down)\n",
    "        y1 = y - 1\n",
    "        if y1 < 0:\n",
    "            y1 = ny-1\n",
    "        m = int(site[x,y1,1])\n",
    "        kin[i,m] = J\n",
    "        kin[m,i] = -J\n",
    "        #NNN\n",
    "        #1-1\n",
    "        kin[j,m] = K\n",
    "        kin[m,j] = -K\n",
    "        #0-0\n",
    "        m = int(site[x,y1,0])\n",
    "        kin[i,m] = -K\n",
    "        kin[m,i] = K\n",
    "        \n",
    "        #NNN right and left\n",
    "        #right 1 to 1\n",
    "        x1 = x + 1\n",
    "        if x1 > nx-1:\n",
    "            x1 = 0\n",
    "        y1 = y - 1\n",
    "        if y1 < 0:\n",
    "            y1 = ny-1\n",
    "        m = int(site[x1,y1,1])\n",
    "        kin[j,m] = -K\n",
    "        kin[m,j] = K\n",
    "        #left 1 to 1\n",
    "        x1 = x - 1\n",
    "        if x1 < 0:\n",
    "            x1 = nx-1\n",
    "        y1 = y + 1\n",
    "        if y1 > ny-1:\n",
    "            y1 = 0    \n",
    "        m = int(site[x1,y1,1])\n",
    "        kin[j,m] = K\n",
    "        kin[m,j] = -K\n",
    "        \n",
    "        #right 0 to 0\n",
    "        x1 = x + 1\n",
    "        if x1 > nx-1:\n",
    "            x1 = 0\n",
    "        y1 = y - 1\n",
    "        if y1 < 0:\n",
    "            y1 = ny-1\n",
    "        m = int(site[x1,y1,0])\n",
    "        kin[i,m] = K\n",
    "        kin[m,i] = -K\n",
    "        #left 0 to 0\n",
    "        x1 = x - 1\n",
    "        if x1 < 0:\n",
    "            x1 = nx-1\n",
    "        y1 = y + 1\n",
    "        if y1 > ny-1:\n",
    "            y1 = 0    \n",
    "        m = int(site[x1,y1,0])\n",
    "        kin[i,m] = -K\n",
    "        kin[m,i] = K\n",
    "\n",
    "# since most of the elements are zeroes, we convert the matrix to a sparse matrix to increase the computational efficiency\n",
    "sA = sparse.csr_matrix(kin)\n",
    "    \n",
    "#aa1 = scipy.sparse.linalg.eigsh(sA, k=int(nx*ny/2), sigma=0, tol=1.e-10, which='SA', return_eigenvectors=True)\n",
    "aa1 = scipy.sparse.linalg.eigsh(sA, k=6, sigma=0, tol=1.e-10)\n",
    "#aa1 = np.linalg.eig(kin)\n",
    "\n",
    "# eigenvalues\n",
    "eigen_a1 = aa1[0]\n",
    "\n",
    "# eigenvectors\n",
    "eigenv_a1 = aa1[1]\n"
   ]
  },
  {
   "cell_type": "code",
   "execution_count": 7,
   "id": "889ec1d2",
   "metadata": {},
   "outputs": [
    {
     "data": {
      "text/plain": [
       "array([-0.27922049, -0.25980762, -0.25980762,  0.25980762,  0.25980762,\n",
       "        0.27922049])"
      ]
     },
     "execution_count": 7,
     "metadata": {},
     "output_type": "execute_result"
    }
   ],
   "source": [
    "np.sort(eigen_a1)"
   ]
  },
  {
   "cell_type": "code",
   "execution_count": 123,
   "id": "a4717721",
   "metadata": {},
   "outputs": [
    {
     "data": {
      "text/plain": [
       "<matplotlib.collections.PathCollection at 0x7f88336b4cd0>"
      ]
     },
     "execution_count": 123,
     "metadata": {},
     "output_type": "execute_result"
    },
    {
     "data": {
      "image/png": "[encoded data removed]",
      "text/plain": [
       "<Figure size 432x288 with 1 Axes>"
      ]
     },
     "metadata": {
      "needs_background": "light"
     },
     "output_type": "display_data"
    }
   ],
   "source": [
    "# plot the lowest energy eigenvalues\n",
    "xa = np.arange(0,len(eigen_a1))\n",
    "#eigen_as = eigen_a1.sort()\n",
    "plt.scatter(xa, eigen_a1)"
   ]
  },
  {
   "cell_type": "code",
   "execution_count": 94,
   "id": "2951d717",
   "metadata": {},
   "outputs": [
    {
     "data": {
      "text/plain": [
       "False"
      ]
     },
     "execution_count": 94,
     "metadata": {},
     "output_type": "execute_result"
    }
   ],
   "source": [
    "#checking if kin is hermitian or not\n",
    "def check_symmetric(a, rtol=1e-05, atol=1e-08):\n",
    "    return np.allclose(a, a.getH(), rtol=rtol, atol=atol)\n",
    "check_symmetric(np.matrix(kin))"
   ]
  },
  {
   "cell_type": "markdown",
   "id": "11e0871b-94bf-4b20-ac77-3b33ef4d3db1",
   "metadata": {},
   "source": [
    "### Kitaev's Honeycomb model with two vortices"
   ]
  },
  {
   "cell_type": "code",
   "execution_count": 35,
   "id": "27a9d657",
   "metadata": {},
   "outputs": [],
   "source": [
    "#Kitaev honeycomb with two vortices\n",
    "#for variable distance b/w the vortices; to find the distance dependence of the splitting\n",
    "nx = 60 #a multiple of 4 or change x1\n",
    "ny = 60 #a multiple of 2 or change y1\n",
    "nz=2 #0=even, 1=odd\n",
    "kin = np.zeros((nx*ny*nz, nx*ny*nz), dtype=complex)\n",
    "site = np.zeros((nx, ny, nz))\n",
    "\n",
    "J = 1*1*1j # this is actually (i/4)*(2J) = J*(2/4)i\n",
    "K = 0.05*1*1j\n",
    "dist = []\n",
    "eng=[]\n",
    "st = 15 #start of the branch cut\n",
    "ds = 25 #maximum distance between the vortices = dist+1, d runs from 1 to dist with an interval of 1\n",
    "\n",
    "i=-1\n",
    "for x in range(0,nx):\n",
    "    for y in range(0,ny):\n",
    "        for z in range(0,nz):\n",
    "            i=i+1\n",
    "            site[x,y,z]=i            \n",
    "\n",
    "# We switch the links from +J -> -J and +K -> -K to create the vortices\n",
    "for x in range(0,nx):\n",
    "    for y in range(0,ny):\n",
    "        i = int(site[x,y,0])\n",
    "        j = int(site[x,y,1])\n",
    "        # in cell 0-1\n",
    "        kin[i,j] = J\n",
    "        kin[j,i] = -J\n",
    "        # out-cell 1-0 (right)\n",
    "        x1 = x + 1\n",
    "        if x1 > nx-1:\n",
    "            x1 = 0\n",
    "        m = int(site[x1,y,0])\n",
    "        kin[j,m] = -J\n",
    "        kin[m,j] = J\n",
    "        #NNN\n",
    "        #0-0\n",
    "        kin[i,m] = -K\n",
    "        kin[m,i] = K\n",
    "        #1-1\n",
    "        m = int(site[x1,y,1])\n",
    "        kin[j,m] = K\n",
    "        kin[m,j] = -K\n",
    "        # out-cell 0-1 (left)\n",
    "        x1 = x - 1\n",
    "        if x1 < 0:\n",
    "            x1 = nx-1\n",
    "        m = int(site[x1,y,1])\n",
    "        kin[i,m] = J\n",
    "        kin[m,i] = -J\n",
    "        #NNN\n",
    "        #0-0\n",
    "        kin[j,m] = -K\n",
    "        kin[m,j] = K\n",
    "        #1-1\n",
    "        m = int(site[x1,y,0])\n",
    "        kin[i,m] = K\n",
    "        kin[m,i] = -K\n",
    "        #####\n",
    "        # out-cell 1-0 (up)\n",
    "        y1 = y + 1\n",
    "        if y1 > ny-1:\n",
    "            y1 = 0\n",
    "        m = int(site[x,y1,0])\n",
    "        kin[j,m] = -J\n",
    "        kin[m,j] = J\n",
    "        #NNN\n",
    "        #0-0\n",
    "        kin[i,m] = K\n",
    "        kin[m,i] = -K\n",
    "        #1-1\n",
    "        m = int(site[x,y1,1])\n",
    "        kin[j,m] = -K\n",
    "        kin[m,j] = K\n",
    "        # out-cell 0-1 (down)\n",
    "        y1 = y - 1\n",
    "        if y1 < 0:\n",
    "            y1 = ny-1\n",
    "        m = int(site[x,y1,1])\n",
    "        kin[i,m] = J\n",
    "        kin[m,i] = -J\n",
    "        #NNN\n",
    "        #1-1\n",
    "        kin[j,m] = K\n",
    "        kin[m,j] = -K\n",
    "        #0-0\n",
    "        m = int(site[x,y1,0])\n",
    "        kin[i,m] = -K\n",
    "        kin[m,i] = K\n",
    "        \n",
    "        #NNN right and left\n",
    "        #right 1 to 1\n",
    "        x1 = x + 1\n",
    "        if x1 > nx-1:\n",
    "            x1 = 0\n",
    "        y1 = y - 1\n",
    "        if y1 < 0:\n",
    "            y1 = ny-1\n",
    "        m = int(site[x1,y1,1])\n",
    "        kin[j,m] = -K\n",
    "        kin[m,j] = K\n",
    "        #left 1 to 1\n",
    "        x1 = x - 1\n",
    "        if x1 < 0:\n",
    "            x1 = nx-1\n",
    "        y1 = y + 1\n",
    "        if y1 > ny-1:\n",
    "            y1 = 0    \n",
    "        m = int(site[x1,y1,1])\n",
    "        kin[j,m] = K\n",
    "        kin[m,j] = -K\n",
    "        \n",
    "        #right 0 to 0\n",
    "        x1 = x + 1\n",
    "        if x1 > nx-1:\n",
    "            x1 = 0\n",
    "        y1 = y - 1\n",
    "        if y1 < 0:\n",
    "            y1 = ny-1\n",
    "        m = int(site[x1,y1,0])\n",
    "        kin[i,m] = K\n",
    "        kin[m,i] = -K\n",
    "        #left 0 to 0\n",
    "        x1 = x - 1\n",
    "        if x1 < 0:\n",
    "            x1 = nx-1\n",
    "        y1 = y + 1\n",
    "        if y1 > ny-1:\n",
    "            y1 = 0    \n",
    "        m = int(site[x1,y1,0])\n",
    "        kin[i,m] = -K\n",
    "        kin[m,i] = K\n",
    "\n",
    "#placing the vortices\n",
    "#remember 2J*uij, while 2K*uik*ujk (using Einstein sum conv) \n",
    "#st+d < nx\n",
    "for d in range(1, ds):   \n",
    "    y2 = int(ny/2)\n",
    "    for x in range(st, st+d):\n",
    "        i = int(site[x,y2,0])\n",
    "        j = int(site[x,y2,1])\n",
    "        # in cell 0-1\n",
    "        kin[i,j] = -J\n",
    "        kin[j,i] = J\n",
    "        #add this if you want the K term in the vortex model\n",
    "        x1 = x + 1\n",
    "        if x1 > nx-1:\n",
    "            x1 = 0\n",
    "        m = int(site[x1,y2,0])\n",
    "        #NNN\n",
    "        #0-0\n",
    "        kin[i,m] = K\n",
    "        kin[m,i] = -K\n",
    "        # out-cell left\n",
    "        x1 = x - 1\n",
    "        if x1 < 0:\n",
    "            x1 = nx-1\n",
    "        m = int(site[x1,y2,1])\n",
    "        #NNN\n",
    "        #1-1\n",
    "        kin[j,m] = K\n",
    "        kin[m,j] = -K\n",
    "        #####\n",
    "        # out-cell (up)\n",
    "        y1 = y2 + 1\n",
    "        m = int(site[x,y1,0])\n",
    "        #NNN\n",
    "        #0-0\n",
    "        kin[i,m] = -K\n",
    "        kin[m,i] = K\n",
    "        # out-cell (down)\n",
    "        y1 = y2 - 1\n",
    "        m = int(site[x,y1,1])\n",
    "        #NNN\n",
    "        #1-1\n",
    "        kin[j,m] = -K\n",
    "        kin[m,j] = K\n",
    "        #the very important step descending of y, it stays there regardless of the K term\n",
    "        y2 = y2-1\n",
    "    \n",
    "    sA = sparse.csr_matrix(kin)\n",
    "    #aa1 = scipy.sparse.linalg.eigsh(sA, k=2, sigma=0, tol=1.e-10)\n",
    "    aa1 = scipy.sparse.linalg.eigsh(sA, k=1, sigma=0, tol=1.e-10, which = 'SA')    \n",
    "    eigen_a1 = aa1[0]\n",
    "    eigenv_a1 = aa1[1]\n",
    "    dist.append(d)\n",
    "    eng.append(eigen_a1)\n",
    "\n",
    "#a2 = np.array([-1/2, (np.sqrt(3)/2)])\n",
    "#a1 = np.array([1/2, (np.sqrt(3)/2)])"
   ]
  },
  {
   "cell_type": "code",
   "execution_count": null,
   "id": "e8bd16ac-0051-4c57-95e5-588c9431ac31",
   "metadata": {},
   "outputs": [],
   "source": []
  },
  {
   "cell_type": "code",
   "execution_count": 36,
   "id": "2d941346",
   "metadata": {},
   "outputs": [
    {
     "data": {
      "text/plain": [
       "(0.0, 18.0)"
      ]
     },
     "execution_count": 36,
     "metadata": {},
     "output_type": "execute_result"
    },
    {
     "data": {
      "image/png": "[encoded data removed]",
      "text/plain": [
       "<Figure size 432x288 with 1 Axes>"
      ]
     },
     "metadata": {
      "needs_background": "light"
     },
     "output_type": "display_data"
    }
   ],
   "source": [
    "\"\"\"\n",
    "This is a plot for the lowest energy state with distance between the vortices, as we move the vortices away from each other.\n",
    "\"\"\"\n",
    "for p,q in zip(dist, eng):\n",
    "    plt.scatter([p]*len(q),q)\n",
    "plt.xlim(0, 18) \n",
    "#plt.ylim(-0.05, 0.05) "
   ]
  },
  {
   "cell_type": "markdown",
   "id": "a02b72a6-ecde-46bc-9b9f-518c69b4d9ac",
   "metadata": {},
   "source": [
    "## We will visualize the lattice in the code below"
   ]
  },
  {
   "cell_type": "code",
   "execution_count": 3,
   "id": "854b7888",
   "metadata": {},
   "outputs": [],
   "source": [
    "#visualize the lattice\n",
    "nx = 5\n",
    "ny = 5\n",
    "nz=2 #0=red, 1=greeen, 2=blue\n",
    "kin = np.zeros((nx*ny*nz, nx*ny*nz))\n",
    "gap = np.zeros((nx*ny*nz, nx*ny*nz))\n",
    "kin1 = np.zeros((nx*ny*nz, nx*ny*nz))\n",
    "gap1 = np.zeros((nx*ny*nz, nx*ny*nz))\n",
    "site = np.zeros((nx, ny, nz))\n",
    "imp = np.zeros((nx*ny*nz, nx*ny*nz))\n",
    "mu = 1\n",
    "t = 1.0\n",
    "sc = 0.2\n",
    "p = -0.5\n",
    "J = 1*1j \n",
    "ax = []\n",
    "ay = []\n",
    "\n",
    "i=-1\n",
    "for x in range(0,nx):\n",
    "    for y in range(0,ny):\n",
    "        for z in range(0,nz):\n",
    "            i=i+1\n",
    "            site[x,y,z]=i            \n",
    "\n",
    "a2 = np.array([-1/2, (np.sqrt(3)/2)])\n",
    "a1 = np.array([1/2, (np.sqrt(3)/2)])        \n",
    "  \n",
    "!rm kitaev.txt\n",
    "    \n",
    "for x in range(0,nx):\n",
    "    for y in range(0,ny):\n",
    "        for z in range(0,nz):\n",
    "            a = x*a1 + y*a2 + z*((a2 + a1)/3)\n",
    "            s1 = 0.0\n",
    "            s2 = 0.0\n",
    "            ax.append(a[0])\n",
    "            ay.append(a[1])\n",
    "            with open(\"kitaev.txt\",'a+') as f:\n",
    "                f.write(str(a[0])+\"\\t\"+str(a[1])+\"\\t\"+str(s1)+\"\\t\"+str(s2)+\"\\n\")        "
   ]
  },
  {
   "cell_type": "code",
   "execution_count": 4,
   "id": "6ca97595",
   "metadata": {},
   "outputs": [
    {
     "ename": "NameError",
     "evalue": "name 'ste' is not defined",
     "output_type": "error",
     "traceback": [
      "\u001b[0;31m---------------------------------------------------------------------------\u001b[0m",
      "\u001b[0;31mNameError\u001b[0m                                 Traceback (most recent call last)",
      "\u001b[0;32m<ipython-input-4-f0fce2df41ff>\u001b[0m in \u001b[0;36m<module>\u001b[0;34m\u001b[0m\n\u001b[1;32m      1\u001b[0m \u001b[0mplt\u001b[0m\u001b[0;34m.\u001b[0m\u001b[0mscatter\u001b[0m\u001b[0;34m(\u001b[0m\u001b[0max\u001b[0m\u001b[0;34m,\u001b[0m \u001b[0may\u001b[0m\u001b[0;34m)\u001b[0m\u001b[0;34m\u001b[0m\u001b[0;34m\u001b[0m\u001b[0m\n\u001b[0;32m----> 2\u001b[0;31m \u001b[0;32mfor\u001b[0m \u001b[0mi\u001b[0m\u001b[0;34m,\u001b[0m \u001b[0mtxt\u001b[0m \u001b[0;32min\u001b[0m \u001b[0menumerate\u001b[0m\u001b[0;34m(\u001b[0m\u001b[0mste\u001b[0m\u001b[0;34m)\u001b[0m\u001b[0;34m:\u001b[0m\u001b[0;34m\u001b[0m\u001b[0;34m\u001b[0m\u001b[0m\n\u001b[0m\u001b[1;32m      3\u001b[0m     \u001b[0mplt\u001b[0m\u001b[0;34m.\u001b[0m\u001b[0mannotate\u001b[0m\u001b[0;34m(\u001b[0m\u001b[0mtxt\u001b[0m\u001b[0;34m,\u001b[0m \u001b[0;34m(\u001b[0m\u001b[0max\u001b[0m\u001b[0;34m[\u001b[0m\u001b[0mi\u001b[0m\u001b[0;34m]\u001b[0m\u001b[0;34m,\u001b[0m \u001b[0may\u001b[0m\u001b[0;34m[\u001b[0m\u001b[0mi\u001b[0m\u001b[0;34m]\u001b[0m\u001b[0;34m)\u001b[0m\u001b[0;34m)\u001b[0m\u001b[0;34m\u001b[0m\u001b[0;34m\u001b[0m\u001b[0m\n\u001b[1;32m      4\u001b[0m \u001b[0mplt\u001b[0m\u001b[0;34m.\u001b[0m\u001b[0mxlim\u001b[0m\u001b[0;34m(\u001b[0m\u001b[0;34m-\u001b[0m\u001b[0;36m5\u001b[0m\u001b[0;34m,\u001b[0m \u001b[0;36m5\u001b[0m\u001b[0;34m)\u001b[0m\u001b[0;34m\u001b[0m\u001b[0;34m\u001b[0m\u001b[0m\n\u001b[1;32m      5\u001b[0m \u001b[0mplt\u001b[0m\u001b[0;34m.\u001b[0m\u001b[0mylim\u001b[0m\u001b[0;34m(\u001b[0m\u001b[0;36m0\u001b[0m\u001b[0;34m,\u001b[0m \u001b[0;36m5\u001b[0m\u001b[0;34m)\u001b[0m\u001b[0;34m\u001b[0m\u001b[0;34m\u001b[0m\u001b[0m\n",
      "\u001b[0;31mNameError\u001b[0m: name 'ste' is not defined"
     ]
    },
    {
     "data": {
      "image/png": "[encoded data removed]",
      "text/plain": [
       "<Figure size 432x288 with 1 Axes>"
      ]
     },
     "metadata": {
      "needs_background": "light"
     },
     "output_type": "display_data"
    }
   ],
   "source": [
    "plt.scatter(ax, ay)\n",
    "for i, txt in enumerate(ste):\n",
    "    plt.annotate(txt, (ax[i], ay[i]))\n",
    "plt.xlim(-5, 5) \n",
    "plt.ylim(0, 5)"
   ]
  },
  {
   "cell_type": "code",
   "execution_count": 9,
   "id": "91d25aa0",
   "metadata": {},
   "outputs": [],
   "source": [
    "#Kitaev honeycomb with two vortices\n",
    "#for a fixed distance\n",
    "#to see the two vortex wavefunction\n",
    "nx = 60 #a multiple of 4 or change x1\n",
    "ny = 60 #a multiple of 2 or change y1\n",
    "nz=2 #0=even, 1=odd\n",
    "kin = np.zeros((nx*ny*nz, nx*ny*nz), dtype=complex)\n",
    "site = np.zeros((nx, ny, nz))\n",
    "\n",
    "J = 1*1j # this is actually (i/4)*(2J) = J*(2/4)i\n",
    "K = 0.05*1j\n",
    "dist = []\n",
    "eng=[]\n",
    "st = 15 #start of the branch cut\n",
    "d = 25\n",
    "stop = st+d #end of the branch cut\n",
    "#the distance between the vortices is (stop-st-1)\n",
    "\n",
    "i=-1\n",
    "for x in range(0,nx):\n",
    "    for y in range(0,ny):\n",
    "        for z in range(0,nz):\n",
    "            i=i+1\n",
    "            site[x,y,z]=i            \n",
    "\n",
    "for x in range(0,nx):\n",
    "    for y in range(0,ny):\n",
    "        i = int(site[x,y,0])\n",
    "        j = int(site[x,y,1])\n",
    "        # in cell 0-1\n",
    "        kin[i,j] = J\n",
    "        kin[j,i] = -J\n",
    "        # out-cell 1-0 (right)\n",
    "        x1 = x + 1\n",
    "        if x1 > nx-1:\n",
    "            x1 = 0\n",
    "        m = int(site[x1,y,0])\n",
    "        kin[j,m] = -J\n",
    "        kin[m,j] = J\n",
    "        #NNN\n",
    "        #0-0\n",
    "        kin[i,m] = -K\n",
    "        kin[m,i] = K\n",
    "        #1-1\n",
    "        m = int(site[x1,y,1])\n",
    "        kin[j,m] = K\n",
    "        kin[m,j] = -K\n",
    "        # out-cell 0-1 (left)\n",
    "        x1 = x - 1\n",
    "        if x1 < 0:\n",
    "            x1 = nx-1\n",
    "        m = int(site[x1,y,1])\n",
    "        kin[i,m] = J\n",
    "        kin[m,i] = -J\n",
    "        #NNN\n",
    "        #1-1\n",
    "        kin[j,m] = -K\n",
    "        kin[m,j] = K\n",
    "        #0-0\n",
    "        m = int(site[x1,y,0])\n",
    "        kin[i,m] = K\n",
    "        kin[m,i] = -K\n",
    "        #####\n",
    "        # out-cell 1-0 (up)\n",
    "        y1 = y + 1\n",
    "        if y1 > ny-1:\n",
    "            y1 = 0\n",
    "        m = int(site[x,y1,0])\n",
    "        kin[j,m] = -J\n",
    "        kin[m,j] = J\n",
    "        #NNN\n",
    "        #0-0\n",
    "        kin[i,m] = K\n",
    "        kin[m,i] = -K\n",
    "        #1-1\n",
    "        m = int(site[x,y1,1])\n",
    "        kin[j,m] = -K\n",
    "        kin[m,j] = K\n",
    "        # out-cell 0-1 (down)\n",
    "        y1 = y - 1\n",
    "        if y1 < 0:\n",
    "            y1 = ny-1\n",
    "        m = int(site[x,y1,1])\n",
    "        kin[i,m] = J\n",
    "        kin[m,i] = -J\n",
    "        #NNN\n",
    "        #1-1\n",
    "        kin[j,m] = K\n",
    "        kin[m,j] = -K\n",
    "        #0-0\n",
    "        m = int(site[x,y1,0])\n",
    "        kin[i,m] = -K\n",
    "        kin[m,i] = K\n",
    "        \n",
    "        #NNN right and left\n",
    "        #right 1 to 1\n",
    "        x1 = x + 1\n",
    "        if x1 > nx-1:\n",
    "            x1 = 0\n",
    "        y1 = y - 1\n",
    "        if y1 < 0:\n",
    "            y1 = ny-1\n",
    "        m = int(site[x1,y1,1])\n",
    "        kin[j,m] = -K\n",
    "        kin[m,j] = K\n",
    "        #left 1 to 1\n",
    "        x1 = x - 1\n",
    "        if x1 < 0:\n",
    "            x1 = nx-1\n",
    "        y1 = y + 1\n",
    "        if y1 > ny-1:\n",
    "            y1 = 0    \n",
    "        m = int(site[x1,y1,1])\n",
    "        kin[j,m] = K\n",
    "        kin[m,j] = -K\n",
    "        \n",
    "        #right 0 to 0\n",
    "        x1 = x + 1\n",
    "        if x1 > nx-1:\n",
    "            x1 = 0\n",
    "        y1 = y - 1\n",
    "        if y1 < 0:\n",
    "            y1 = ny-1\n",
    "        m = int(site[x1,y1,0])\n",
    "        kin[i,m] = K\n",
    "        kin[m,i] = -K\n",
    "        #left 0 to 0\n",
    "        x1 = x - 1\n",
    "        if x1 < 0:\n",
    "            x1 = nx-1\n",
    "        y1 = y + 1\n",
    "        if y1 > ny-1:\n",
    "            y1 = 0    \n",
    "        m = int(site[x1,y1,0])\n",
    "        kin[i,m] = -K\n",
    "        kin[m,i] = K\n",
    "\n",
    "#placing the vortices\n",
    "#remember 2J*uij, while 2K*uik*ujk (using Einstein sum conv) \n",
    "#st+d < nx\n",
    "\n",
    "y2 = int(ny/2)\n",
    "for x in range(st, stop):\n",
    "    i = int(site[x,y2,0])\n",
    "    j = int(site[x,y2,1])\n",
    "    # in cell 0-1\n",
    "    kin[i,j] = -J\n",
    "    kin[j,i] = J\n",
    "    #add this if you want the K term in the vortex model\n",
    "    x1 = x + 1\n",
    "    if x1 > nx-1:\n",
    "        x1 = 0\n",
    "    m = int(site[x1,y2,0])\n",
    "    #NNN\n",
    "    #0-0\n",
    "    kin[i,m] = K\n",
    "    kin[m,i] = -K\n",
    "    # out-cell left\n",
    "    x1 = x - 1\n",
    "    if x1 < 0:\n",
    "        x1 = nx-1\n",
    "    m = int(site[x1,y2,1])\n",
    "    #NNN\n",
    "    #1-1\n",
    "    kin[j,m] = K\n",
    "    kin[m,j] = -K\n",
    "    #####\n",
    "    # out-cell (up)\n",
    "    y1 = y2 + 1\n",
    "    m = int(site[x,y1,0])\n",
    "    #NNN\n",
    "    #0-0\n",
    "    kin[i,m] = -K\n",
    "    kin[m,i] = K\n",
    "    # out-cell (down)\n",
    "    y1 = y2 - 1\n",
    "    m = int(site[x,y1,1])\n",
    "    #NNN\n",
    "    #1-1\n",
    "    kin[j,m] = -K\n",
    "    kin[m,j] = K\n",
    "    #the very important step descending of y, it stays there regardless of the K term\n",
    "    y2 = y2-1\n",
    "\n",
    "    \n",
    "sA = sparse.csr_matrix(kin)\n",
    "aa1 = scipy.sparse.linalg.eigsh(sA, k=2, sigma=0, tol=1.e-10)\n",
    "#aa1 = np.linalg.eig(kin)\n",
    "eigen_a1 = aa1[0]\n",
    "eigenv_a1 = aa1[1]\n",
    "eng.append(eigen_a1)\n",
    "\n",
    "a2 = np.array([-1/2, (np.sqrt(3)/2)])\n",
    "a1 = np.array([1/2, (np.sqrt(3)/2)])\n",
    "\n",
    "xd = []\n",
    "xlt = []\n",
    "xlte=[]\n",
    "evd = []\n",
    "evr=[]\n",
    "y2 = int(ny/2)+5\n",
    "for x in range(st-5,stop+5):\n",
    "    evd.append(abs(eigenv_a1[int(site[x,y2,1])][0]))\n",
    "    evr.append((eigenv_a1[int(site[x,y2,1])][0]+np.conj(eigenv_a1[int(site[x,y2,1])][0]))/np.sqrt(2))\n",
    "    xd.append(x)\n",
    "    xlt.append(x-(st)+0.5)\n",
    "    #xlte.append(np.sqrt((x-(st)+0.5)**2+(1/(2*np.sqrt(3)))**2))\n",
    "    a = x*a1 + y*a2 + z*((a2 + a1)/3)\n",
    "    y2 = y2-1"
   ]
  },
  {
   "cell_type": "code",
   "execution_count": 10,
   "id": "de23c5b7",
   "metadata": {},
   "outputs": [
    {
     "data": {
      "text/plain": [
       "<matplotlib.collections.PathCollection at 0x7fca26cdb280>"
      ]
     },
     "execution_count": 10,
     "metadata": {},
     "output_type": "execute_result"
    },
    {
     "data": {
      "image/png": "[encoded data removed]",
      "text/plain": [
       "<Figure size 432x288 with 1 Axes>"
      ]
     },
     "metadata": {
      "needs_background": "light"
     },
     "output_type": "display_data"
    }
   ],
   "source": [
    "\"\"\"\n",
    "This is a plot for the absolute value of the eigenvector at each lattice positions. The peaks at the position of the vortices shows that\n",
    "the eigenvectors are locatized at the positon of the vortices.\n",
    "\"\"\"\n",
    "plt.scatter(xd, evd)\n",
    "#plt.xlim(0,5)"
   ]
  },
  {
   "cell_type": "code",
   "execution_count": 11,
   "id": "6775fef7",
   "metadata": {},
   "outputs": [
    {
     "name": "stdout",
     "output_type": "stream",
     "text": [
      "Optimization terminated successfully.\n",
      "         Current function value: 0.000915\n",
      "         Iterations: 14\n",
      "         Function evaluations: 28\n"
     ]
    }
   ],
   "source": [
    "\"\"\"\n",
    "We extract the eigenvectors for the MZMs (Majorana Zero Modes) from the eigenvectors of the model\n",
    "\"\"\"\n",
    "#to plot the real and imaginary MZM\n",
    "ev1 = []\n",
    "ev2 = []\n",
    "for i in range(0, len(eigenv_a1)):\n",
    "    ev1.append(eigenv_a1[i][0])\n",
    "evn=np.array(ev1)\n",
    "np.sin(np.angle(evn))\n",
    "def wf(t):\n",
    "    w = sum((abs(evn)**2)*abs(np.sin(2*t+2*np.angle(evn))))\n",
    "    return w\n",
    "argwf = optimize.fmin(wf, 1.5)\n",
    "evn1 = np.exp(argwf*1j)*evn\n",
    "xd = []\n",
    "evd = []\n",
    "evr=[]\n",
    "evl=[]\n",
    "y2 = int(ny/2)+5\n",
    "for x in range(st-5,stop+5):\n",
    "    evl.append((evn1[int(site[x,y2,1])]+np.conj(evn1[int(site[x,y2,1])]))/np.sqrt(2))  #MZM on right\n",
    "    evr.append((evn1[int(site[x,y2,1])]-np.conj(evn1[int(site[x,y2,1])]))/(np.sqrt(2)*1j))  #MZM on left\n",
    "    xd.append(x)\n",
    "    y2 = y2-1"
   ]
  },
  {
   "cell_type": "code",
   "execution_count": 12,
   "id": "63613831",
   "metadata": {},
   "outputs": [],
   "source": [
    "#from H, we know that psi2=psi1*. so multiplying psi2 by e^(it) in a what that psi2=psi1*\n",
    "evp = []\n",
    "evn = []\n",
    "evn1 = []\n",
    "for i in range(0, len(eigenv_a1)):\n",
    "    evp.append(eigenv_a1[i][0])\n",
    "    evn1.append(eigenv_a1[i][1])\n",
    "evpa=np.array(evp)\n",
    "evn1a=np.array(evn1)\n",
    "t=-np.log((np.dot(np.conj(evn1a),np.conj(evpa)))/(np.dot(np.conj(evn1a),evn1a))**2)*1j\n",
    "evna = np.exp(t*1j)*evn1a"
   ]
  },
  {
   "cell_type": "code",
   "execution_count": 13,
   "id": "6bf69474",
   "metadata": {},
   "outputs": [
    {
     "name": "stderr",
     "output_type": "stream",
     "text": [
      "/home/Freewheelin/anaconda3/lib/python3.8/site-packages/numpy/core/_asarray.py:102: ComplexWarning: Casting complex values to real discards the imaginary part\n",
      "  return array(a, dtype, copy=False, order=order)\n"
     ]
    },
    {
     "data": {
      "text/plain": [
       "[<matplotlib.lines.Line2D at 0x7fca58648220>]"
      ]
     },
     "execution_count": 13,
     "metadata": {},
     "output_type": "execute_result"
    },
    {
     "data": {
      "image/png": "[encoded data removed]",
      "text/plain": [
       "<Figure size 432x288 with 1 Axes>"
      ]
     },
     "metadata": {
      "needs_background": "light"
     },
     "output_type": "display_data"
    }
   ],
   "source": [
    "\"\"\"\n",
    "Plot of the eigenvector locatized at the left vortex\n",
    "\"\"\"\n",
    "plt.plot(xlt, np.around(evl,6))\n",
    "#plt.xlim(30,40)"
   ]
  },
  {
   "cell_type": "code",
   "execution_count": 14,
   "id": "c6cefd73",
   "metadata": {},
   "outputs": [
    {
     "name": "stderr",
     "output_type": "stream",
     "text": [
      "/home/Freewheelin/anaconda3/lib/python3.8/site-packages/numpy/core/_asarray.py:102: ComplexWarning: Casting complex values to real discards the imaginary part\n",
      "  return array(a, dtype, copy=False, order=order)\n"
     ]
    },
    {
     "data": {
      "text/plain": [
       "[<matplotlib.lines.Line2D at 0x7fca5859ba60>]"
      ]
     },
     "execution_count": 14,
     "metadata": {},
     "output_type": "execute_result"
    },
    {
     "data": {
      "image/png": "[encoded data removed]",
      "text/plain": [
       "<Figure size 432x288 with 1 Axes>"
      ]
     },
     "metadata": {
      "needs_background": "light"
     },
     "output_type": "display_data"
    }
   ],
   "source": [
    "\"\"\"\n",
    "Plot of the eigenvector locatized at the right vortex\n",
    "\"\"\"\n",
    "plt.plot(xlt, np.around(evr,6))"
   ]
  },
  {
   "cell_type": "code",
   "execution_count": 8,
   "id": "98c52a8b",
   "metadata": {},
   "outputs": [],
   "source": [
    "#wavefunction from the paper by Otten\n",
    "J=1\n",
    "K=0.05\n",
    "ep = (6*K)/(J)\n",
    "def wfm(x):\n",
    "    #phi = np.arctan((1/(2*np.sqrt(3)))/x)\n",
    "    phi = np.angle(x + (1/(2*np.sqrt(3)))*1j)\n",
    "    return np.sqrt(ep/((np.pi)*(np.sqrt(x**2+(1/(2*np.sqrt(3)))**2))))*np.exp(-ep*(np.sqrt((x**2+(1/(2*np.sqrt(3)))**2))))*np.cos(-(2*np.pi*x/3)+(np.pi/4)+(phi/2))"
   ]
  },
  {
   "cell_type": "code",
   "execution_count": 59,
   "id": "e1476d48",
   "metadata": {},
   "outputs": [
    {
     "data": {
      "text/plain": [
       "0.2810349015028136"
      ]
     },
     "execution_count": 59,
     "metadata": {},
     "output_type": "execute_result"
    }
   ],
   "source": [
    "cmath.phase(1 + (1/(2*np.sqrt(3)))*1j)"
   ]
  },
  {
   "cell_type": "code",
   "execution_count": 65,
   "id": "93f5f54e",
   "metadata": {},
   "outputs": [
    {
     "data": {
      "text/plain": [
       "0.14334756890536537"
      ]
     },
     "execution_count": 65,
     "metadata": {},
     "output_type": "execute_result"
    }
   ],
   "source": [
    "np.arctan((1/(2*np.sqrt(3)))/2)"
   ]
  },
  {
   "cell_type": "code",
   "execution_count": 51,
   "id": "7e04c6b3",
   "metadata": {},
   "outputs": [
    {
     "data": {
      "text/plain": [
       "[<matplotlib.lines.Line2D at 0x7fc8ea480c40>]"
      ]
     },
     "execution_count": 51,
     "metadata": {},
     "output_type": "execute_result"
    },
    {
     "data": {
      "image/png": "[encoded data removed]",
      "text/plain": [
       "<Figure size 432x288 with 1 Axes>"
      ]
     },
     "metadata": {
      "needs_background": "light"
     },
     "output_type": "display_data"
    }
   ],
   "source": [
    "xdn = np.arange(-5,30,0.5)\n",
    "#plt.plot(np.array(xlt),wfm(np.array(xlt)))\n",
    "plt.plot(np.array(xlt),wfm(np.array(xlt)))\n",
    "#plt.xlim(-5,5)"
   ]
  },
  {
   "cell_type": "code",
   "execution_count": 15,
   "id": "85f568ac",
   "metadata": {},
   "outputs": [
    {
     "name": "stderr",
     "output_type": "stream",
     "text": [
      "/home/Freewheelin/anaconda3/lib/python3.8/site-packages/numpy/core/_asarray.py:171: ComplexWarning: Casting complex values to real discards the imaginary part\n",
      "  return array(a, dtype, copy=False, order=order, subok=True)\n"
     ]
    },
    {
     "data": {
      "image/png": "[encoded data removed]",
      "text/plain": [
       "<Figure size 432x288 with 1 Axes>"
      ]
     },
     "metadata": {
      "needs_background": "light"
     },
     "output_type": "display_data"
    }
   ],
   "source": [
    "\"\"\"\n",
    "Compare the eigenvector obtained from our effective model (red curve) with the numerical value (green dots)\n",
    "\"\"\"\n",
    "#compare mine with Oten's\n",
    "#there is no reason to take the phase pi/4. I took pi/2 for better match\n",
    "xlt1=np.arange(-5,20,0.01)\n",
    "plt.plot(xlt1,wfm(xlt1), color='r')\n",
    "#plt.plot(np.array(xlt),-wfm(np.array(xlt)), color='r')\n",
    "plt.scatter(np.array(xlt), np.around((np.array(evl)),6), color='g')\n",
    "plt.xlim(-5,10)\n",
    "plt.xlabel('Distance from the vortex')\n",
    "plt.ylabel('Localized MZM wavefunction')\n",
    "plt.savefig('MZM.pdf')"
   ]
  },
  {
   "cell_type": "markdown",
   "id": "294bc44e-36b5-44ad-b84c-5b28ccefbdb7",
   "metadata": {},
   "source": [
    "# The below codes are for some experimentations with the phase of the wave function"
   ]
  },
  {
   "cell_type": "code",
   "execution_count": 34,
   "id": "15a25a47",
   "metadata": {},
   "outputs": [
    {
     "name": "stderr",
     "output_type": "stream",
     "text": [
      "/home/Freewheelin/anaconda3/lib/python3.8/site-packages/numpy/core/_asarray.py:171: ComplexWarning: Casting complex values to real discards the imaginary part\n",
      "  return array(a, dtype, copy=False, order=order, subok=True)\n"
     ]
    },
    {
     "data": {
      "image/png": "[encoded data removed]",
      "text/plain": [
       "<Figure size 432x288 with 1 Axes>"
      ]
     },
     "metadata": {
      "needs_background": "light"
     },
     "output_type": "display_data"
    }
   ],
   "source": [
    "#compare mine with Oten's\n",
    "#there is no reason to take the phase pi/4. I took pi/2 for better match\n",
    "#xlt1=np.arange(-5,20,0.01)\n",
    "#plt.plot(xlt1,wfm(xlt1), color='r')\n",
    "#plt.scatter(np.array(xlt),wfm(np.array(xlt)), color='r')\n",
    "plt.scatter(np.array(xlt), (np.around((np.array(evl)),6)-wfm(np.array(xlt))), color='g')\n",
    "plt.xlim(-5,20)\n",
    "plt.xlabel('Distance from the vortex')\n",
    "plt.ylabel('Difference between analytical and numerical MZM wavefunction')\n",
    "plt.savefig('MZM.pdf')"
   ]
  },
  {
   "cell_type": "code",
   "execution_count": 29,
   "id": "606f834d",
   "metadata": {},
   "outputs": [
    {
     "data": {
      "text/plain": [
       "array([ 1.14454985,  0.78321822, -5.09773773])"
      ]
     },
     "execution_count": 29,
     "metadata": {},
     "output_type": "execute_result"
    }
   ],
   "source": [
    "import matplotlib.pyplot as plt\n",
    "from scipy.optimize import curve_fit\n",
    "J=1\n",
    "K=0.05\n",
    "ep = (6*K)/(J)\n",
    "xlt11 = np.array([ i for i in xlt1 if abs(i) > 0.1])\n",
    "def wfm(x,a,b,c):\n",
    "    phi = -0*(np.pi)-c*np.arctan((1/(2*np.sqrt(3)))/x)\n",
    "    return a*np.sqrt(ep/((np.pi)*(np.sqrt(x**2+(1/(2*np.sqrt(3)))**2))))*np.exp(-ep*(np.sqrt((x**2+(1/(2*np.sqrt(3)))**2))))*np.cos(-(2*np.pi*x/3)+b+(np.pi/4)-phi/2)\n",
    "popt, pcov = curve_fit(wfm, xlt, np.around((np.array(np.real(evl))),6), maxfev=1000)\n",
    "\n",
    "popt"
   ]
  },
  {
   "cell_type": "code",
   "execution_count": 30,
   "id": "e43f390a",
   "metadata": {},
   "outputs": [
    {
     "data": {
      "text/plain": [
       "(-0.5, 0.5)"
      ]
     },
     "execution_count": 30,
     "metadata": {},
     "output_type": "execute_result"
    },
    {
     "data": {
      "image/png": "[encoded data removed]",
      "text/plain": [
       "<Figure size 432x288 with 1 Axes>"
      ]
     },
     "metadata": {
      "needs_background": "light"
     },
     "output_type": "display_data"
    }
   ],
   "source": [
    "plt.scatter(np.array(xlt), np.around((np.array(np.real(evl))),6), color='g')\n",
    "plt.plot(xlt1, wfm(xlt1, *popt), 'r-',\n",
    "         label='fit: a=%5.3f, b=%5.3f, c=%5.3f' % tuple(popt))\n",
    "#plt.plot(np.array(xlt1),wfm(np.array(xlt1)),color='r')\n",
    "plt.xlim(-5,15)\n",
    "plt.ylim(-0.5,0.5)"
   ]
  },
  {
   "cell_type": "code",
   "execution_count": 455,
   "id": "6c50d431",
   "metadata": {},
   "outputs": [
    {
     "data": {
      "text/plain": [
       "[<matplotlib.lines.Line2D at 0x7f8091f33700>]"
      ]
     },
     "execution_count": 455,
     "metadata": {},
     "output_type": "execute_result"
    },
    {
     "data": {
      "image/png": "[encoded data removed]",
      "text/plain": [
       "<Figure size 432x288 with 1 Axes>"
      ]
     },
     "metadata": {
      "needs_background": "light"
     },
     "output_type": "display_data"
    }
   ],
   "source": [
    "xdn = np.arange(-5,30,1.2)\n",
    "#plt.plot(np.array(xlt),wfm(np.array(xlt)))\n",
    "plt.plot(xdn,wfm(xdn))\n",
    "#plt.xlim(-5,5)"
   ]
  },
  {
   "cell_type": "code",
   "execution_count": 467,
   "id": "c12a9484",
   "metadata": {},
   "outputs": [
    {
     "data": {
      "text/plain": [
       "0.5227843329589921"
      ]
     },
     "execution_count": 467,
     "metadata": {},
     "output_type": "execute_result"
    }
   ],
   "source": [
    "wfm(-0.05)"
   ]
  },
  {
   "cell_type": "code",
   "execution_count": null,
   "id": "7b9a376d",
   "metadata": {},
   "outputs": [],
   "source": [
    "import matplotlib.pyplot as plt\n",
    "from scipy.optimize import curve_fit\n",
    "J=1\n",
    "K=0.05\n",
    "ep = (6*K)/(J)\n",
    "xlt11 = np.array([ i for i in xlt1 if abs(i) > 0.1])\n",
    "def wfm(x,a,b,c):\n",
    "    phi = np.arctan((c/(2*np.sqrt(3)))/x)\n",
    "    return a*np.sqrt(ep/((np.pi)*(np.sqrt(x**2+(1/(2*np.sqrt(3)))**2))))*np.exp(-ep*(np.sqrt((x**2+(1/(2*np.sqrt(3)))**2))))*np.cos(-(2*np.pi*x/3)+b+phi/2)\n",
    "popt, pcov = curve_fit(wfm, xlt, np.around((np.array(evr)),6), maxfev=1000)\n",
    "\n",
    "popt"
   ]
  },
  {
   "cell_type": "code",
   "execution_count": 216,
   "id": "93e2a97d",
   "metadata": {},
   "outputs": [
    {
     "data": {
      "text/plain": [
       "(0.0, 13.0)"
      ]
     },
     "execution_count": 216,
     "metadata": {},
     "output_type": "execute_result"
    },
    {
     "data": {
      "image/png": "[encoded data removed]",
      "text/plain": [
       "<Figure size 432x288 with 1 Axes>"
      ]
     },
     "metadata": {
      "needs_background": "light"
     },
     "output_type": "display_data"
    }
   ],
   "source": [
    "v = np.sqrt(3)*J/4\n",
    "def spl(dn):\n",
    "    return 4*v*abs(np.cos((2*np.pi*dn/3)))*np.sqrt(ep/(2*np.pi*dn))*np.exp(-ep*dn)\n",
    "plt.scatter(np.array(dist),spl(np.array(dist)),color='g')\n",
    "plt.scatter(np.array(dist),-spl(np.array(dist)),color='g')\n",
    "plt.xlim(0, 13)"
   ]
  },
  {
   "cell_type": "code",
   "execution_count": 206,
   "id": "bca62743",
   "metadata": {},
   "outputs": [
    {
     "data": {
      "text/plain": [
       "(0.0, 13.0)"
      ]
     },
     "execution_count": 206,
     "metadata": {},
     "output_type": "execute_result"
    },
    {
     "data": {
      "image/png": "[encoded data removed]",
      "text/plain": [
       "<Figure size 432x288 with 1 Axes>"
      ]
     },
     "metadata": {
      "needs_background": "light"
     },
     "output_type": "display_data"
    }
   ],
   "source": [
    "for p,q in zip(dist, eng):\n",
    "    plt.scatter([p]*len(q),q, color='r')\n",
    "plt.xlim(0, 13) \n",
    "#plt.ylim(-0.05, 0.05) "
   ]
  },
  {
   "cell_type": "code",
   "execution_count": 70,
   "id": "40a3cde6",
   "metadata": {},
   "outputs": [
    {
     "data": {
      "text/plain": [
       "(0.0, 13.0)"
      ]
     },
     "execution_count": 70,
     "metadata": {},
     "output_type": "execute_result"
    },
    {
     "data": {
      "image/png": "[encoded data removed]",
      "text/plain": [
       "<Figure size 432x288 with 1 Axes>"
      ]
     },
     "metadata": {
      "needs_background": "light"
     },
     "output_type": "display_data"
    }
   ],
   "source": [
    "#compare the splitting\n",
    "#green:effective, red:numeric\n",
    "#90/ k = 0.03\n",
    "v = np.sqrt(3)*J/4\n",
    "def spl(dn):\n",
    "    return 4*v*abs(np.cos((2*np.pi*dn/3)))*np.sqrt(ep/(2*np.pi*dn))*np.exp(-ep*dn)\n",
    "plt.scatter(np.array(dist),spl(np.array(dist)),color='g')\n",
    "plt.scatter(np.array(dist),-spl(np.array(dist)),color='g')\n",
    "for p,q in zip(dist, eng):\n",
    "    plt.scatter([p]*len(q),q, color='r')\n",
    "plt.xlim(0, 13)"
   ]
  },
  {
   "cell_type": "code",
   "execution_count": 37,
   "id": "f262d5fb",
   "metadata": {},
   "outputs": [],
   "source": [
    "#compare the splitting\n",
    "#green:effective, red:numeric\n",
    "J = 1\n",
    "K = 0.05\n",
    "dl = np.arange(1,len(dist),0.01)\n",
    "eng1 = []\n",
    "ep = (6*K)/(J)\n",
    "v = np.sqrt(3)*J/4\n",
    "for i in range(0, len(eng)):\n",
    "    eng1.append(eng[0][0])\n",
    "eng1a = np.array(eng1)    \n",
    "def spl(dn):\n",
    "    return -4*v*abs(np.cos((2*np.pi*dn/(3))))*np.sqrt(ep/(2*np.pi*dn))*np.exp(-ep*dn)\n",
    "#plt.scatter(np.array(dist),spl(np.array(dist)),color='g')\n",
    "#plt.scatter(np.array(dist),-spl(np.array(dist)),color='g')\n",
    "#plt.plot(dl,spl(dl),color='g')\n",
    "#plt.plot(dl,-spl(dl),color='g')\n",
    "#popt, pcov = curve_fit(spl, np.array(dist), eng1a, maxfev=1000)\n",
    "\n",
    "#popt"
   ]
  },
  {
   "cell_type": "code",
   "execution_count": 38,
   "id": "fda587aa",
   "metadata": {},
   "outputs": [
    {
     "data": {
      "text/plain": [
       "(0.0, 13.0)"
      ]
     },
     "execution_count": 38,
     "metadata": {},
     "output_type": "execute_result"
    },
    {
     "data": {
      "image/png": "[encoded data removed]",
      "text/plain": [
       "<Figure size 432x288 with 1 Axes>"
      ]
     },
     "metadata": {
      "needs_background": "light"
     },
     "output_type": "display_data"
    }
   ],
   "source": [
    "#compare the splitting\n",
    "#green:effective, red:numeric\n",
    "#90, K = 0.03\n",
    "v = np.sqrt(3)*J/4\n",
    "def spl(dn):\n",
    "    return 4*v*abs(np.cos((2*np.pi*dn/3)))*np.sqrt(ep/(2*np.pi*dn))*np.exp(-ep*dn)\n",
    "plt.scatter(np.array(dist),spl(np.array(dist)),color='g')\n",
    "plt.scatter(np.array(dist),-spl(np.array(dist)),color='g')\n",
    "for p,q in zip(dist, eng):\n",
    "    plt.scatter([p]*len(q),q, color='r')\n",
    "plt.xlim(0, 13)"
   ]
  },
  {
   "cell_type": "code",
   "execution_count": 40,
   "id": "ba8d697e",
   "metadata": {},
   "outputs": [
    {
     "data": {
      "image/png": "[encoded data removed]",
      "text/plain": [
       "<Figure size 432x288 with 1 Axes>"
      ]
     },
     "metadata": {
      "needs_background": "light"
     },
     "output_type": "display_data"
    }
   ],
   "source": [
    "#expression for splitting\n",
    "for p,q in zip(dist, eng):\n",
    "    plt.scatter([p]*len(q),q, color='g')\n",
    "plt.plot(dl, -spl(np.array(dl)),color='r')    \n",
    "#plt.plot(dl, spl(np.array(dl), *popt), 'r-',\n",
    "#         label='fit: a=%5.3f' % tuple(popt))    \n",
    "#plt.xlim(1.9, 2.2)\n",
    "#plt.ylim(-0.08, -0.01)\n",
    "plt.xlabel('Distance between the vortices')\n",
    "plt.ylabel('Lowest energy (negative) level within the gap')\n",
    "plt.savefig('splitting.pdf')"
   ]
  },
  {
   "cell_type": "code",
   "execution_count": 45,
   "id": "79319f05",
   "metadata": {},
   "outputs": [
    {
     "data": {
      "image/png": "[encoded data removed]",
      "text/plain": [
       "<Figure size 432x288 with 1 Axes>"
      ]
     },
     "metadata": {
      "needs_background": "light"
     },
     "output_type": "display_data"
    }
   ],
   "source": [
    "#expression for splitting\n",
    "for p,q in zip(dist, eng):\n",
    "    plt.scatter([p]*len(q),q-(-spl(p)), color='g')\n",
    "#plt.scatter(dist, -spl(np.array(dist)),color='r')   \n",
    "#plt.plot(dl, spl(np.array(dl), *popt), 'r-',\n",
    "#         label='fit: a=%5.3f' % tuple(popt))\n",
    "#plt.xlim(1.9, 2.2)\n",
    "#plt.ylim(-0.08, -0.01)\n",
    "plt.xlabel('Distance between the vortices')\n",
    "plt.ylabel('Lowest energy level within the gap (difference)')\n",
    "plt.savefig('splitting.pdf')"
   ]
  },
  {
   "cell_type": "code",
   "execution_count": 42,
   "id": "a31671af",
   "metadata": {},
   "outputs": [
    {
     "data": {
      "text/plain": [
       "array([-0.04467596])"
      ]
     },
     "execution_count": 42,
     "metadata": {},
     "output_type": "execute_result"
    }
   ],
   "source": [
    "eng[1]"
   ]
  },
  {
   "cell_type": "code",
   "execution_count": 46,
   "id": "86257bb9",
   "metadata": {},
   "outputs": [
    {
     "data": {
      "text/plain": [
       "-0.07343610563854565"
      ]
     },
     "execution_count": 46,
     "metadata": {},
     "output_type": "execute_result"
    }
   ],
   "source": [
    "dl[100]\n",
    "spl(dl[100])"
   ]
  },
  {
   "cell_type": "code",
   "execution_count": 292,
   "id": "b5b9b607",
   "metadata": {},
   "outputs": [
    {
     "data": {
      "text/plain": [
       "(0.0, 15.0)"
      ]
     },
     "execution_count": 292,
     "metadata": {},
     "output_type": "execute_result"
    },
    {
     "data": {
      "image/png": "[encoded data removed]",
      "text/plain": [
       "<Figure size 432x288 with 1 Axes>"
      ]
     },
     "metadata": {
      "needs_background": "light"
     },
     "output_type": "display_data"
    }
   ],
   "source": [
    "for p,q in zip(dist, eng):\n",
    "    plt.scatter([p]*len(q),q, color='g')\n",
    "plt.scatter(dist, spl(np.array(dist)),color='r')    \n",
    "#plt.plot(dl, spl(np.array(dl), *popt), 'r-',\n",
    "#         label='fit: a=%5.3f' % tuple(popt))    \n",
    "plt.xlim(0, 15)\n",
    "#plt.ylim(-0.1, 0.0)"
   ]
  },
  {
   "cell_type": "code",
   "execution_count": 76,
   "id": "3c8051cb",
   "metadata": {},
   "outputs": [],
   "source": [
    "ne = []\n",
    "evre = []\n",
    "for i in range(0, int(len(xlt)/2)+3):\n",
    "    ne.append(xlt[i])\n",
    "    evre.append(evr[i])\n",
    "xlte=np.arange(-4.5,int(len(xlt)/2)+3,0.01)    "
   ]
  },
  {
   "cell_type": "code",
   "execution_count": 82,
   "id": "740efecf",
   "metadata": {},
   "outputs": [
    {
     "name": "stderr",
     "output_type": "stream",
     "text": [
      "/home/Freewheelin/anaconda3/lib/python3.8/site-packages/numpy/core/_asarray.py:171: ComplexWarning: Casting complex values to real discards the imaginary part\n",
      "  return array(a, dtype, copy=False, order=order, subok=True)\n"
     ]
    },
    {
     "data": {
      "text/plain": [
       "(-5.0, 7.0)"
      ]
     },
     "execution_count": 82,
     "metadata": {},
     "output_type": "execute_result"
    },
    {
     "data": {
      "image/png": "[encoded data removed]",
      "text/plain": [
       "<Figure size 432x288 with 1 Axes>"
      ]
     },
     "metadata": {
      "needs_background": "light"
     },
     "output_type": "display_data"
    }
   ],
   "source": [
    "plt.scatter(np.array(ne), np.around((np.array(evre)),6), color='g')\n",
    "plt.plot(xlte, wfm(xlte, *popt), 'r-',\n",
    "         label='fit: a=%5.3f, b=%5.3f' % tuple(popt))\n",
    "plt.xlim(-5,7)"
   ]
  },
  {
   "cell_type": "code",
   "execution_count": 283,
   "id": "8e3e686b",
   "metadata": {},
   "outputs": [
    {
     "data": {
      "text/plain": [
       "-0.055079868622893685"
      ]
     },
     "execution_count": 283,
     "metadata": {},
     "output_type": "execute_result"
    }
   ],
   "source": [
    "spl(dl[106])"
   ]
  },
  {
   "cell_type": "code",
   "execution_count": 278,
   "id": "c390dbdb",
   "metadata": {},
   "outputs": [
    {
     "data": {
      "text/plain": [
       "-0.0734361056385459"
      ]
     },
     "execution_count": 278,
     "metadata": {},
     "output_type": "execute_result"
    }
   ],
   "source": [
    "spl(dist[1])"
   ]
  },
  {
   "cell_type": "code",
   "execution_count": null,
   "id": "e8b9d39e",
   "metadata": {},
   "outputs": [],
   "source": []
  },
  {
   "cell_type": "code",
   "execution_count": 517,
   "id": "16024c41",
   "metadata": {},
   "outputs": [
    {
     "name": "stdout",
     "output_type": "stream",
     "text": [
      "Optimization terminated successfully.\n",
      "         Current function value: 0.000913\n",
      "         Iterations: 13\n",
      "         Function evaluations: 26\n"
     ]
    }
   ],
   "source": [
    "#demo\n",
    "#to plot the real and imaginary MZM\n",
    "ev1 = []\n",
    "ev2 = []\n",
    "for i in range(0, len(eigenv_a1)):\n",
    "    ev1.append(eigenv_a1[i][0])\n",
    "evn=np.array(ev1)\n",
    "np.sin(np.angle(evn))\n",
    "def wf(t):\n",
    "    w = sum((abs(evn)**2)*abs(np.sin(2*t+2*np.angle(evn))))\n",
    "    return w\n",
    "argwf = optimize.fmin(wf, 1.5)\n",
    "evn1 = np.exp(argwf*1j)*evn\n",
    "xd = []\n",
    "evd = []\n",
    "evr=[]\n",
    "evl=[]\n",
    "y2 = int(ny/2)+5\n",
    "for x in range(st-5,stop+5):\n",
    "    evr.append((evn1[int(site[x,y2,1])]+np.conj(evn1[int(site[x,y2,1])]))/np.sqrt(2))  #MZM on right\n",
    "    evl.append((evn1[int(site[x,y2,1])]-np.conj(evn1[int(site[x,y2,1])]))/(np.sqrt(2)*1j))  #MZM on left\n",
    "    xd.append(x)\n",
    "    y2 = y2-1"
   ]
  },
  {
   "cell_type": "code",
   "execution_count": null,
   "id": "13be67b2",
   "metadata": {},
   "outputs": [],
   "source": []
  }
 ],
 "metadata": {
  "kernelspec": {
   "display_name": "Python 3 (ipykernel)",
   "language": "python",
   "name": "python3"
  },
  "language_info": {
   "codemirror_mode": {
    "name": "ipython",
    "version": 3
   },
   "file_extension": ".py",
   "mimetype": "text/x-python",
   "name": "python",
   "nbconvert_exporter": "python",
   "pygments_lexer": "ipython3",
   "version": "3.12.2"
  }
 },
 "nbformat": 4,
 "nbformat_minor": 5
}
